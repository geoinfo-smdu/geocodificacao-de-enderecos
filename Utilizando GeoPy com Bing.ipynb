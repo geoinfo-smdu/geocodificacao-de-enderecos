{
 "cells": [
  {
   "cell_type": "markdown",
   "metadata": {},
   "source": [
    "# Utilizando GeoPy com Bing"
   ]
  },
  {
   "cell_type": "code",
   "execution_count": 1,
   "metadata": {},
   "outputs": [],
   "source": [
    "from geopy.geocoders import Bing"
   ]
  },
  {
   "cell_type": "code",
   "execution_count": 5,
   "metadata": {},
   "outputs": [],
   "source": [
    "# aqui cada um deve gerar uma chave para acesso a API\n",
    "from secrets.bing_key import bing_key"
   ]
  },
  {
   "cell_type": "code",
   "execution_count": 7,
   "metadata": {},
   "outputs": [],
   "source": [
    "geolocator = Bing(api_key=bing_key(), timeout=10, user_agent=\"primeiro_teste_com_Bing\")"
   ]
  },
  {
   "cell_type": "code",
   "execution_count": 14,
   "metadata": {},
   "outputs": [],
   "source": [
    "location = geolocator.geocode(\"Rua São Bento, 407, São Paulo, São Paulo, SP, BR\", culture='BR')"
   ]
  },
  {
   "cell_type": "code",
   "execution_count": 15,
   "metadata": {},
   "outputs": [
    {
     "data": {
      "text/plain": [
       "Location(Rua São Bento, 407, Sao Paulo, SP 01010-001, Brazil, (-23.5455714, -46.6349651, 0.0))"
      ]
     },
     "execution_count": 15,
     "metadata": {},
     "output_type": "execute_result"
    }
   ],
   "source": [
    "location"
   ]
  },
  {
   "cell_type": "code",
   "execution_count": 16,
   "metadata": {},
   "outputs": [],
   "source": [
    "import pandas as pd"
   ]
  },
  {
   "cell_type": "code",
   "execution_count": 17,
   "metadata": {},
   "outputs": [],
   "source": [
    "df = pd.read_csv(f\"dados/exemplo-1.csv\")"
   ]
  },
  {
   "cell_type": "code",
   "execution_count": 40,
   "metadata": {},
   "outputs": [],
   "source": [
    "df['endereco_sao_paulo'] = df['endereço'] +  ', São Paulo, São Paulo, SP, BR'"
   ]
  },
  {
   "cell_type": "code",
   "execution_count": 41,
   "metadata": {},
   "outputs": [
    {
     "data": {
      "text/plain": [
       "0                    TESTE, São Paulo, São Paulo, SP, BR\n",
       "1       rua da entidade,25, São Paulo, São Paulo, SP, BR\n",
       "2      Av. Augusto Antunes 337, São Paulo, São Paulo,...\n",
       "3      Ermelino Matarazzo e comunidade vila Silvia, S...\n",
       "4      Rua Serra de LUIZ Gomes 1992 cep 08190 500, Sã...\n",
       "                             ...                        \n",
       "778    Rua Maria Amália Lopes de Azevedo, 4.180. Jd. ...\n",
       "779    Projeto fazendo a diferença.. Centro de São Pa...\n",
       "780        RUA ITAPIRU 137, São Paulo, São Paulo, SP, BR\n",
       "781      Rua do outono 410, São Paulo, São Paulo, SP, BR\n",
       "782    Rua 26 de abril 117 Na sede ou no espaço socia...\n",
       "Name: endereco_sao_paulo, Length: 783, dtype: object"
      ]
     },
     "execution_count": 41,
     "metadata": {},
     "output_type": "execute_result"
    }
   ],
   "source": [
    "df['endereco_sao_paulo']"
   ]
  },
  {
   "cell_type": "code",
   "execution_count": 19,
   "metadata": {},
   "outputs": [],
   "source": [
    "from geopy.extra.rate_limiter import RateLimiter\n",
    "geocode = RateLimiter(geolocator.geocode, min_delay_seconds=0.1)"
   ]
  },
  {
   "cell_type": "code",
   "execution_count": 20,
   "metadata": {},
   "outputs": [
    {
     "name": "stderr",
     "output_type": "stream",
     "text": [
      "/home/fernando/miniconda3/envs/geo_env/lib/python3.8/site-packages/tqdm/std.py:668: FutureWarning: The Panel class is removed from pandas. Accessing it from the top-level namespace will also be removed in the next version\n",
      "  from pandas import Panel\n"
     ]
    }
   ],
   "source": [
    "from tqdm import tqdm\n",
    "tqdm.pandas()"
   ]
  },
  {
   "cell_type": "code",
   "execution_count": 42,
   "metadata": {},
   "outputs": [
    {
     "name": "stderr",
     "output_type": "stream",
     "text": [
      "100%|██████████| 783/783 [13:27<00:00,  1.03s/it]\n"
     ]
    }
   ],
   "source": [
    "df['location'] = df['endereco_sao_paulo'].progress_apply(geocode)"
   ]
  },
  {
   "cell_type": "code",
   "execution_count": 43,
   "metadata": {},
   "outputs": [],
   "source": [
    "df['point'] = df['location'].apply(lambda loc: tuple(loc.point) if loc else None)"
   ]
  },
  {
   "cell_type": "code",
   "execution_count": 44,
   "metadata": {},
   "outputs": [
    {
     "data": {
      "text/html": [
       "<div>\n",
       "<style scoped>\n",
       "    .dataframe tbody tr th:only-of-type {\n",
       "        vertical-align: middle;\n",
       "    }\n",
       "\n",
       "    .dataframe tbody tr th {\n",
       "        vertical-align: top;\n",
       "    }\n",
       "\n",
       "    .dataframe thead th {\n",
       "        text-align: right;\n",
       "    }\n",
       "</style>\n",
       "<table border=\"1\" class=\"dataframe\">\n",
       "  <thead>\n",
       "    <tr style=\"text-align: right;\">\n",
       "      <th></th>\n",
       "      <th>id</th>\n",
       "      <th>endereço</th>\n",
       "      <th>endereco_sao_paulo</th>\n",
       "      <th>location</th>\n",
       "      <th>point</th>\n",
       "    </tr>\n",
       "  </thead>\n",
       "  <tbody>\n",
       "    <tr>\n",
       "      <th>0</th>\n",
       "      <td>1</td>\n",
       "      <td>TESTE</td>\n",
       "      <td>TESTE, São Paulo, São Paulo, SP, BR</td>\n",
       "      <td>(Rua Trieste, Sao Paulo, SP 03581-180, Brazil,...</td>\n",
       "      <td>(-23.55696, -46.49914, 0.0)</td>\n",
       "    </tr>\n",
       "    <tr>\n",
       "      <th>1</th>\n",
       "      <td>2</td>\n",
       "      <td>rua da entidade,25</td>\n",
       "      <td>rua da entidade,25, São Paulo, São Paulo, SP, BR</td>\n",
       "      <td>(Rua Vinte e Cinco, Sao Paulo, SP 02814-030, B...</td>\n",
       "      <td>(-23.4593, -46.70898, 0.0)</td>\n",
       "    </tr>\n",
       "    <tr>\n",
       "      <th>2</th>\n",
       "      <td>3</td>\n",
       "      <td>Av. Augusto Antunes 337</td>\n",
       "      <td>Av. Augusto Antunes 337, São Paulo, São Paulo,...</td>\n",
       "      <td>(Avenida Augusto Antunes, 337, Sao Paulo, SP 0...</td>\n",
       "      <td>(-23.51056, -46.46829, 0.0)</td>\n",
       "    </tr>\n",
       "    <tr>\n",
       "      <th>3</th>\n",
       "      <td>5</td>\n",
       "      <td>Ermelino Matarazzo e comunidade vila Silvia</td>\n",
       "      <td>Ermelino Matarazzo e comunidade vila Silvia, S...</td>\n",
       "      <td>(São Paulo, SP, Brazil, (-23.493900299072266, ...</td>\n",
       "      <td>(-23.493900299072266, -46.50382995605469, 0.0)</td>\n",
       "    </tr>\n",
       "    <tr>\n",
       "      <th>4</th>\n",
       "      <td>6</td>\n",
       "      <td>Rua Serra de LUIZ Gomes 1992 cep 08190 500</td>\n",
       "      <td>Rua Serra de LUIZ Gomes 1992 cep 08190 500, Sã...</td>\n",
       "      <td>(Rua Serra de Luís Gomes, 1992, Sao Paulo, SP ...</td>\n",
       "      <td>(-23.4834617, -46.3915417, 0.0)</td>\n",
       "    </tr>\n",
       "    <tr>\n",
       "      <th>...</th>\n",
       "      <td>...</td>\n",
       "      <td>...</td>\n",
       "      <td>...</td>\n",
       "      <td>...</td>\n",
       "      <td>...</td>\n",
       "    </tr>\n",
       "    <tr>\n",
       "      <th>778</th>\n",
       "      <td>855</td>\n",
       "      <td>Rua Maria Amália Lopes de Azevedo, 4.180. Jd. ...</td>\n",
       "      <td>Rua Maria Amália Lopes de Azevedo, 4.180. Jd. ...</td>\n",
       "      <td>(Rua Maria Amália Lopes de Azevedo, Sao Paulo,...</td>\n",
       "      <td>(-23.46065, -46.62237, 0.0)</td>\n",
       "    </tr>\n",
       "    <tr>\n",
       "      <th>779</th>\n",
       "      <td>856</td>\n",
       "      <td>Projeto fazendo a diferença.. Centro de São Pa...</td>\n",
       "      <td>Projeto fazendo a diferença.. Centro de São Pa...</td>\n",
       "      <td>(São Paulo, SP, Brazil, (-23.562870025634766, ...</td>\n",
       "      <td>(-23.562870025634766, -46.65467834472656, 0.0)</td>\n",
       "    </tr>\n",
       "    <tr>\n",
       "      <th>780</th>\n",
       "      <td>857</td>\n",
       "      <td>RUA ITAPIRU 137</td>\n",
       "      <td>RUA ITAPIRU 137, São Paulo, São Paulo, SP, BR</td>\n",
       "      <td>(Rua Itapiru, 137, Sao Paulo, SP 04143-010, Br...</td>\n",
       "      <td>(-23.61346, -46.63664, 0.0)</td>\n",
       "    </tr>\n",
       "    <tr>\n",
       "      <th>781</th>\n",
       "      <td>858</td>\n",
       "      <td>Rua do outono 410</td>\n",
       "      <td>Rua do outono 410, São Paulo, São Paulo, SP, BR</td>\n",
       "      <td>(Rua do Outono, 410, Sao Paulo, SP 02847-060, ...</td>\n",
       "      <td>(-23.46071, -46.69478, 0.0)</td>\n",
       "    </tr>\n",
       "    <tr>\n",
       "      <th>782</th>\n",
       "      <td>859</td>\n",
       "      <td>Rua 26 de abril 117 Na sede ou no espaço socia...</td>\n",
       "      <td>Rua 26 de abril 117 Na sede ou no espaço socia...</td>\n",
       "      <td>(São Paulo, SP, Brazil, (-23.562870025634766, ...</td>\n",
       "      <td>(-23.562870025634766, -46.65467834472656, 0.0)</td>\n",
       "    </tr>\n",
       "  </tbody>\n",
       "</table>\n",
       "<p>780 rows × 5 columns</p>\n",
       "</div>"
      ],
      "text/plain": [
       "      id                                           endereço  \\\n",
       "0      1                                              TESTE   \n",
       "1      2                                 rua da entidade,25   \n",
       "2      3                            Av. Augusto Antunes 337   \n",
       "3      5        Ermelino Matarazzo e comunidade vila Silvia   \n",
       "4      6         Rua Serra de LUIZ Gomes 1992 cep 08190 500   \n",
       "..   ...                                                ...   \n",
       "778  855  Rua Maria Amália Lopes de Azevedo, 4.180. Jd. ...   \n",
       "779  856  Projeto fazendo a diferença.. Centro de São Pa...   \n",
       "780  857                                    RUA ITAPIRU 137   \n",
       "781  858                                  Rua do outono 410   \n",
       "782  859  Rua 26 de abril 117 Na sede ou no espaço socia...   \n",
       "\n",
       "                                    endereco_sao_paulo  \\\n",
       "0                  TESTE, São Paulo, São Paulo, SP, BR   \n",
       "1     rua da entidade,25, São Paulo, São Paulo, SP, BR   \n",
       "2    Av. Augusto Antunes 337, São Paulo, São Paulo,...   \n",
       "3    Ermelino Matarazzo e comunidade vila Silvia, S...   \n",
       "4    Rua Serra de LUIZ Gomes 1992 cep 08190 500, Sã...   \n",
       "..                                                 ...   \n",
       "778  Rua Maria Amália Lopes de Azevedo, 4.180. Jd. ...   \n",
       "779  Projeto fazendo a diferença.. Centro de São Pa...   \n",
       "780      RUA ITAPIRU 137, São Paulo, São Paulo, SP, BR   \n",
       "781    Rua do outono 410, São Paulo, São Paulo, SP, BR   \n",
       "782  Rua 26 de abril 117 Na sede ou no espaço socia...   \n",
       "\n",
       "                                              location  \\\n",
       "0    (Rua Trieste, Sao Paulo, SP 03581-180, Brazil,...   \n",
       "1    (Rua Vinte e Cinco, Sao Paulo, SP 02814-030, B...   \n",
       "2    (Avenida Augusto Antunes, 337, Sao Paulo, SP 0...   \n",
       "3    (São Paulo, SP, Brazil, (-23.493900299072266, ...   \n",
       "4    (Rua Serra de Luís Gomes, 1992, Sao Paulo, SP ...   \n",
       "..                                                 ...   \n",
       "778  (Rua Maria Amália Lopes de Azevedo, Sao Paulo,...   \n",
       "779  (São Paulo, SP, Brazil, (-23.562870025634766, ...   \n",
       "780  (Rua Itapiru, 137, Sao Paulo, SP 04143-010, Br...   \n",
       "781  (Rua do Outono, 410, Sao Paulo, SP 02847-060, ...   \n",
       "782  (São Paulo, SP, Brazil, (-23.562870025634766, ...   \n",
       "\n",
       "                                              point  \n",
       "0                       (-23.55696, -46.49914, 0.0)  \n",
       "1                        (-23.4593, -46.70898, 0.0)  \n",
       "2                       (-23.51056, -46.46829, 0.0)  \n",
       "3    (-23.493900299072266, -46.50382995605469, 0.0)  \n",
       "4                   (-23.4834617, -46.3915417, 0.0)  \n",
       "..                                              ...  \n",
       "778                     (-23.46065, -46.62237, 0.0)  \n",
       "779  (-23.562870025634766, -46.65467834472656, 0.0)  \n",
       "780                     (-23.61346, -46.63664, 0.0)  \n",
       "781                     (-23.46071, -46.69478, 0.0)  \n",
       "782  (-23.562870025634766, -46.65467834472656, 0.0)  \n",
       "\n",
       "[780 rows x 5 columns]"
      ]
     },
     "execution_count": 44,
     "metadata": {},
     "output_type": "execute_result"
    }
   ],
   "source": [
    "df[~df.point.isin([None])]"
   ]
  },
  {
   "cell_type": "code",
   "execution_count": 45,
   "metadata": {},
   "outputs": [],
   "source": [
    "df.to_csv(\"resultados/exemplo-1-bing.csv\")"
   ]
  },
  {
   "cell_type": "code",
   "execution_count": 46,
   "metadata": {},
   "outputs": [],
   "source": [
    "import geopandas as gpd"
   ]
  },
  {
   "cell_type": "code",
   "execution_count": 47,
   "metadata": {},
   "outputs": [],
   "source": [
    "df_points = df[~df.point.isin([None])]"
   ]
  },
  {
   "cell_type": "code",
   "execution_count": 48,
   "metadata": {},
   "outputs": [
    {
     "name": "stderr",
     "output_type": "stream",
     "text": [
      "<ipython-input-48-a89875fe4032>:1: SettingWithCopyWarning: \n",
      "A value is trying to be set on a copy of a slice from a DataFrame.\n",
      "Try using .loc[row_indexer,col_indexer] = value instead\n",
      "\n",
      "See the caveats in the documentation: https://pandas.pydata.org/pandas-docs/stable/user_guide/indexing.html#returning-a-view-versus-a-copy\n",
      "  df_points['x'] = df_points.apply(lambda row: row.point[1], axis=1)\n",
      "<ipython-input-48-a89875fe4032>:2: SettingWithCopyWarning: \n",
      "A value is trying to be set on a copy of a slice from a DataFrame.\n",
      "Try using .loc[row_indexer,col_indexer] = value instead\n",
      "\n",
      "See the caveats in the documentation: https://pandas.pydata.org/pandas-docs/stable/user_guide/indexing.html#returning-a-view-versus-a-copy\n",
      "  df_points['y'] = df_points.apply(lambda row: row.point[0], axis=1)\n"
     ]
    }
   ],
   "source": [
    "df_points['x'] = df_points.apply(lambda row: row.point[1], axis=1)\n",
    "df_points['y'] = df_points.apply(lambda row: row.point[0], axis=1)"
   ]
  },
  {
   "cell_type": "code",
   "execution_count": 49,
   "metadata": {},
   "outputs": [],
   "source": [
    "gdf = gpd.GeoDataFrame(df_points, geometry=gpd.points_from_xy(df_points.x, df_points.y))"
   ]
  },
  {
   "cell_type": "code",
   "execution_count": 50,
   "metadata": {},
   "outputs": [
    {
     "data": {
      "text/html": [
       "<div>\n",
       "<style scoped>\n",
       "    .dataframe tbody tr th:only-of-type {\n",
       "        vertical-align: middle;\n",
       "    }\n",
       "\n",
       "    .dataframe tbody tr th {\n",
       "        vertical-align: top;\n",
       "    }\n",
       "\n",
       "    .dataframe thead th {\n",
       "        text-align: right;\n",
       "    }\n",
       "</style>\n",
       "<table border=\"1\" class=\"dataframe\">\n",
       "  <thead>\n",
       "    <tr style=\"text-align: right;\">\n",
       "      <th></th>\n",
       "      <th>id</th>\n",
       "      <th>endereço</th>\n",
       "      <th>endereco_sao_paulo</th>\n",
       "      <th>location</th>\n",
       "      <th>point</th>\n",
       "      <th>x</th>\n",
       "      <th>y</th>\n",
       "      <th>geometry</th>\n",
       "    </tr>\n",
       "  </thead>\n",
       "  <tbody>\n",
       "    <tr>\n",
       "      <th>0</th>\n",
       "      <td>1</td>\n",
       "      <td>TESTE</td>\n",
       "      <td>TESTE, São Paulo, São Paulo, SP, BR</td>\n",
       "      <td>(Rua Trieste, Sao Paulo, SP 03581-180, Brazil,...</td>\n",
       "      <td>(-23.55696, -46.49914, 0.0)</td>\n",
       "      <td>-46.499140</td>\n",
       "      <td>-23.556960</td>\n",
       "      <td>POINT (-46.49914 -23.55696)</td>\n",
       "    </tr>\n",
       "    <tr>\n",
       "      <th>1</th>\n",
       "      <td>2</td>\n",
       "      <td>rua da entidade,25</td>\n",
       "      <td>rua da entidade,25, São Paulo, São Paulo, SP, BR</td>\n",
       "      <td>(Rua Vinte e Cinco, Sao Paulo, SP 02814-030, B...</td>\n",
       "      <td>(-23.4593, -46.70898, 0.0)</td>\n",
       "      <td>-46.708980</td>\n",
       "      <td>-23.459300</td>\n",
       "      <td>POINT (-46.70898 -23.45930)</td>\n",
       "    </tr>\n",
       "    <tr>\n",
       "      <th>2</th>\n",
       "      <td>3</td>\n",
       "      <td>Av. Augusto Antunes 337</td>\n",
       "      <td>Av. Augusto Antunes 337, São Paulo, São Paulo,...</td>\n",
       "      <td>(Avenida Augusto Antunes, 337, Sao Paulo, SP 0...</td>\n",
       "      <td>(-23.51056, -46.46829, 0.0)</td>\n",
       "      <td>-46.468290</td>\n",
       "      <td>-23.510560</td>\n",
       "      <td>POINT (-46.46829 -23.51056)</td>\n",
       "    </tr>\n",
       "    <tr>\n",
       "      <th>3</th>\n",
       "      <td>5</td>\n",
       "      <td>Ermelino Matarazzo e comunidade vila Silvia</td>\n",
       "      <td>Ermelino Matarazzo e comunidade vila Silvia, S...</td>\n",
       "      <td>(São Paulo, SP, Brazil, (-23.493900299072266, ...</td>\n",
       "      <td>(-23.493900299072266, -46.50382995605469, 0.0)</td>\n",
       "      <td>-46.503830</td>\n",
       "      <td>-23.493900</td>\n",
       "      <td>POINT (-46.50383 -23.49390)</td>\n",
       "    </tr>\n",
       "    <tr>\n",
       "      <th>4</th>\n",
       "      <td>6</td>\n",
       "      <td>Rua Serra de LUIZ Gomes 1992 cep 08190 500</td>\n",
       "      <td>Rua Serra de LUIZ Gomes 1992 cep 08190 500, Sã...</td>\n",
       "      <td>(Rua Serra de Luís Gomes, 1992, Sao Paulo, SP ...</td>\n",
       "      <td>(-23.4834617, -46.3915417, 0.0)</td>\n",
       "      <td>-46.391542</td>\n",
       "      <td>-23.483462</td>\n",
       "      <td>POINT (-46.39154 -23.48346)</td>\n",
       "    </tr>\n",
       "    <tr>\n",
       "      <th>...</th>\n",
       "      <td>...</td>\n",
       "      <td>...</td>\n",
       "      <td>...</td>\n",
       "      <td>...</td>\n",
       "      <td>...</td>\n",
       "      <td>...</td>\n",
       "      <td>...</td>\n",
       "      <td>...</td>\n",
       "    </tr>\n",
       "    <tr>\n",
       "      <th>778</th>\n",
       "      <td>855</td>\n",
       "      <td>Rua Maria Amália Lopes de Azevedo, 4.180. Jd. ...</td>\n",
       "      <td>Rua Maria Amália Lopes de Azevedo, 4.180. Jd. ...</td>\n",
       "      <td>(Rua Maria Amália Lopes de Azevedo, Sao Paulo,...</td>\n",
       "      <td>(-23.46065, -46.62237, 0.0)</td>\n",
       "      <td>-46.622370</td>\n",
       "      <td>-23.460650</td>\n",
       "      <td>POINT (-46.62237 -23.46065)</td>\n",
       "    </tr>\n",
       "    <tr>\n",
       "      <th>779</th>\n",
       "      <td>856</td>\n",
       "      <td>Projeto fazendo a diferença.. Centro de São Pa...</td>\n",
       "      <td>Projeto fazendo a diferença.. Centro de São Pa...</td>\n",
       "      <td>(São Paulo, SP, Brazil, (-23.562870025634766, ...</td>\n",
       "      <td>(-23.562870025634766, -46.65467834472656, 0.0)</td>\n",
       "      <td>-46.654678</td>\n",
       "      <td>-23.562870</td>\n",
       "      <td>POINT (-46.65468 -23.56287)</td>\n",
       "    </tr>\n",
       "    <tr>\n",
       "      <th>780</th>\n",
       "      <td>857</td>\n",
       "      <td>RUA ITAPIRU 137</td>\n",
       "      <td>RUA ITAPIRU 137, São Paulo, São Paulo, SP, BR</td>\n",
       "      <td>(Rua Itapiru, 137, Sao Paulo, SP 04143-010, Br...</td>\n",
       "      <td>(-23.61346, -46.63664, 0.0)</td>\n",
       "      <td>-46.636640</td>\n",
       "      <td>-23.613460</td>\n",
       "      <td>POINT (-46.63664 -23.61346)</td>\n",
       "    </tr>\n",
       "    <tr>\n",
       "      <th>781</th>\n",
       "      <td>858</td>\n",
       "      <td>Rua do outono 410</td>\n",
       "      <td>Rua do outono 410, São Paulo, São Paulo, SP, BR</td>\n",
       "      <td>(Rua do Outono, 410, Sao Paulo, SP 02847-060, ...</td>\n",
       "      <td>(-23.46071, -46.69478, 0.0)</td>\n",
       "      <td>-46.694780</td>\n",
       "      <td>-23.460710</td>\n",
       "      <td>POINT (-46.69478 -23.46071)</td>\n",
       "    </tr>\n",
       "    <tr>\n",
       "      <th>782</th>\n",
       "      <td>859</td>\n",
       "      <td>Rua 26 de abril 117 Na sede ou no espaço socia...</td>\n",
       "      <td>Rua 26 de abril 117 Na sede ou no espaço socia...</td>\n",
       "      <td>(São Paulo, SP, Brazil, (-23.562870025634766, ...</td>\n",
       "      <td>(-23.562870025634766, -46.65467834472656, 0.0)</td>\n",
       "      <td>-46.654678</td>\n",
       "      <td>-23.562870</td>\n",
       "      <td>POINT (-46.65468 -23.56287)</td>\n",
       "    </tr>\n",
       "  </tbody>\n",
       "</table>\n",
       "<p>780 rows × 8 columns</p>\n",
       "</div>"
      ],
      "text/plain": [
       "      id                                           endereço  \\\n",
       "0      1                                              TESTE   \n",
       "1      2                                 rua da entidade,25   \n",
       "2      3                            Av. Augusto Antunes 337   \n",
       "3      5        Ermelino Matarazzo e comunidade vila Silvia   \n",
       "4      6         Rua Serra de LUIZ Gomes 1992 cep 08190 500   \n",
       "..   ...                                                ...   \n",
       "778  855  Rua Maria Amália Lopes de Azevedo, 4.180. Jd. ...   \n",
       "779  856  Projeto fazendo a diferença.. Centro de São Pa...   \n",
       "780  857                                    RUA ITAPIRU 137   \n",
       "781  858                                  Rua do outono 410   \n",
       "782  859  Rua 26 de abril 117 Na sede ou no espaço socia...   \n",
       "\n",
       "                                    endereco_sao_paulo  \\\n",
       "0                  TESTE, São Paulo, São Paulo, SP, BR   \n",
       "1     rua da entidade,25, São Paulo, São Paulo, SP, BR   \n",
       "2    Av. Augusto Antunes 337, São Paulo, São Paulo,...   \n",
       "3    Ermelino Matarazzo e comunidade vila Silvia, S...   \n",
       "4    Rua Serra de LUIZ Gomes 1992 cep 08190 500, Sã...   \n",
       "..                                                 ...   \n",
       "778  Rua Maria Amália Lopes de Azevedo, 4.180. Jd. ...   \n",
       "779  Projeto fazendo a diferença.. Centro de São Pa...   \n",
       "780      RUA ITAPIRU 137, São Paulo, São Paulo, SP, BR   \n",
       "781    Rua do outono 410, São Paulo, São Paulo, SP, BR   \n",
       "782  Rua 26 de abril 117 Na sede ou no espaço socia...   \n",
       "\n",
       "                                              location  \\\n",
       "0    (Rua Trieste, Sao Paulo, SP 03581-180, Brazil,...   \n",
       "1    (Rua Vinte e Cinco, Sao Paulo, SP 02814-030, B...   \n",
       "2    (Avenida Augusto Antunes, 337, Sao Paulo, SP 0...   \n",
       "3    (São Paulo, SP, Brazil, (-23.493900299072266, ...   \n",
       "4    (Rua Serra de Luís Gomes, 1992, Sao Paulo, SP ...   \n",
       "..                                                 ...   \n",
       "778  (Rua Maria Amália Lopes de Azevedo, Sao Paulo,...   \n",
       "779  (São Paulo, SP, Brazil, (-23.562870025634766, ...   \n",
       "780  (Rua Itapiru, 137, Sao Paulo, SP 04143-010, Br...   \n",
       "781  (Rua do Outono, 410, Sao Paulo, SP 02847-060, ...   \n",
       "782  (São Paulo, SP, Brazil, (-23.562870025634766, ...   \n",
       "\n",
       "                                              point          x          y  \\\n",
       "0                       (-23.55696, -46.49914, 0.0) -46.499140 -23.556960   \n",
       "1                        (-23.4593, -46.70898, 0.0) -46.708980 -23.459300   \n",
       "2                       (-23.51056, -46.46829, 0.0) -46.468290 -23.510560   \n",
       "3    (-23.493900299072266, -46.50382995605469, 0.0) -46.503830 -23.493900   \n",
       "4                   (-23.4834617, -46.3915417, 0.0) -46.391542 -23.483462   \n",
       "..                                              ...        ...        ...   \n",
       "778                     (-23.46065, -46.62237, 0.0) -46.622370 -23.460650   \n",
       "779  (-23.562870025634766, -46.65467834472656, 0.0) -46.654678 -23.562870   \n",
       "780                     (-23.61346, -46.63664, 0.0) -46.636640 -23.613460   \n",
       "781                     (-23.46071, -46.69478, 0.0) -46.694780 -23.460710   \n",
       "782  (-23.562870025634766, -46.65467834472656, 0.0) -46.654678 -23.562870   \n",
       "\n",
       "                        geometry  \n",
       "0    POINT (-46.49914 -23.55696)  \n",
       "1    POINT (-46.70898 -23.45930)  \n",
       "2    POINT (-46.46829 -23.51056)  \n",
       "3    POINT (-46.50383 -23.49390)  \n",
       "4    POINT (-46.39154 -23.48346)  \n",
       "..                           ...  \n",
       "778  POINT (-46.62237 -23.46065)  \n",
       "779  POINT (-46.65468 -23.56287)  \n",
       "780  POINT (-46.63664 -23.61346)  \n",
       "781  POINT (-46.69478 -23.46071)  \n",
       "782  POINT (-46.65468 -23.56287)  \n",
       "\n",
       "[780 rows x 8 columns]"
      ]
     },
     "execution_count": 50,
     "metadata": {},
     "output_type": "execute_result"
    }
   ],
   "source": [
    "gdf"
   ]
  },
  {
   "cell_type": "code",
   "execution_count": 51,
   "metadata": {},
   "outputs": [],
   "source": [
    "gdf[['id', 'endereço', 'geometry']].to_file('resultados/exemplo-1-bing.gpkg', driver=\"GPKG\")"
   ]
  },
  {
   "cell_type": "code",
   "execution_count": null,
   "metadata": {},
   "outputs": [],
   "source": []
  }
 ],
 "metadata": {
  "kernelspec": {
   "display_name": "Python 3",
   "language": "python",
   "name": "python3"
  },
  "language_info": {
   "codemirror_mode": {
    "name": "ipython",
    "version": 3
   },
   "file_extension": ".py",
   "mimetype": "text/x-python",
   "name": "python",
   "nbconvert_exporter": "python",
   "pygments_lexer": "ipython3",
   "version": "3.8.2"
  }
 },
 "nbformat": 4,
 "nbformat_minor": 4
}
