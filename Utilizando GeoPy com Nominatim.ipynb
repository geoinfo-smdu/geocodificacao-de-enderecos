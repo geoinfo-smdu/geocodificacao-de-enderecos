{
 "cells": [
  {
   "cell_type": "markdown",
   "metadata": {},
   "source": [
    "# Utilizando GeoPy"
   ]
  },
  {
   "cell_type": "code",
   "execution_count": 1,
   "metadata": {},
   "outputs": [],
   "source": [
    "from geopy.geocoders import Nominatim"
   ]
  },
  {
   "cell_type": "code",
   "execution_count": 2,
   "metadata": {},
   "outputs": [],
   "source": [
    "geolocator = Nominatim(user_agent=\"primeiro_teste_com_Nominatim\", timeout=10)"
   ]
  },
  {
   "cell_type": "code",
   "execution_count": 3,
   "metadata": {},
   "outputs": [],
   "source": [
    "location = geolocator.geocode(\"Rua São Bento, 407\")"
   ]
  },
  {
   "cell_type": "code",
   "execution_count": 4,
   "metadata": {},
   "outputs": [
    {
     "data": {
      "text/plain": [
       "Location(Rua São Bento, Vila Alto do Cruzeiro, Praia Grande, Salvador, Microrregião de Salvador, Região Metropolitana de Salvador, Região Geográfica Intermediária de Salvador, Bahia, Região Nordeste, 40725-610, Brasil, (-12.8732009, -38.4717929, 0.0))"
      ]
     },
     "execution_count": 4,
     "metadata": {},
     "output_type": "execute_result"
    }
   ],
   "source": [
    "location"
   ]
  },
  {
   "cell_type": "code",
   "execution_count": 5,
   "metadata": {},
   "outputs": [],
   "source": [
    "geocode = lambda query: geolocator.geocode(\"%s, São Paulo, Região Imediata de São Paulo, Região Metropolitana de São Paulo, Região Geográfica Intermediária de São Paulo, São Paulo, Região Sudeste\" % query)"
   ]
  },
  {
   "cell_type": "code",
   "execution_count": 6,
   "metadata": {},
   "outputs": [],
   "source": [
    "location = geocode(\"rua são bento, 405\")"
   ]
  },
  {
   "cell_type": "code",
   "execution_count": 7,
   "metadata": {},
   "outputs": [
    {
     "data": {
      "text/plain": [
       "Location(Rua São Bento, Quitaúna, Osasco, Região Imediata de São Paulo, Região Metropolitana de São Paulo, Região Geográfica Intermediária de São Paulo, São Paulo, Região Sudeste, 06186-230, Brasil, (-23.5338883, -46.8164347, 0.0))"
      ]
     },
     "execution_count": 7,
     "metadata": {},
     "output_type": "execute_result"
    }
   ],
   "source": [
    "location"
   ]
  },
  {
   "cell_type": "code",
   "execution_count": 8,
   "metadata": {},
   "outputs": [],
   "source": [
    "import pandas as pd"
   ]
  },
  {
   "cell_type": "code",
   "execution_count": 9,
   "metadata": {},
   "outputs": [],
   "source": [
    "df = pd.read_csv(f\"dados/exemplo-1.csv\")"
   ]
  },
  {
   "cell_type": "code",
   "execution_count": 10,
   "metadata": {},
   "outputs": [
    {
     "data": {
      "text/html": [
       "<div>\n",
       "<style scoped>\n",
       "    .dataframe tbody tr th:only-of-type {\n",
       "        vertical-align: middle;\n",
       "    }\n",
       "\n",
       "    .dataframe tbody tr th {\n",
       "        vertical-align: top;\n",
       "    }\n",
       "\n",
       "    .dataframe thead th {\n",
       "        text-align: right;\n",
       "    }\n",
       "</style>\n",
       "<table border=\"1\" class=\"dataframe\">\n",
       "  <thead>\n",
       "    <tr style=\"text-align: right;\">\n",
       "      <th></th>\n",
       "      <th>id</th>\n",
       "      <th>endereço</th>\n",
       "    </tr>\n",
       "  </thead>\n",
       "  <tbody>\n",
       "    <tr>\n",
       "      <th>0</th>\n",
       "      <td>1</td>\n",
       "      <td>TESTE</td>\n",
       "    </tr>\n",
       "    <tr>\n",
       "      <th>1</th>\n",
       "      <td>2</td>\n",
       "      <td>rua da entidade,25</td>\n",
       "    </tr>\n",
       "    <tr>\n",
       "      <th>2</th>\n",
       "      <td>3</td>\n",
       "      <td>Av. Augusto Antunes 337</td>\n",
       "    </tr>\n",
       "    <tr>\n",
       "      <th>3</th>\n",
       "      <td>5</td>\n",
       "      <td>Ermelino Matarazzo e comunidade vila Silvia</td>\n",
       "    </tr>\n",
       "    <tr>\n",
       "      <th>4</th>\n",
       "      <td>6</td>\n",
       "      <td>Rua Serra de LUIZ Gomes 1992 cep 08190 500</td>\n",
       "    </tr>\n",
       "    <tr>\n",
       "      <th>...</th>\n",
       "      <td>...</td>\n",
       "      <td>...</td>\n",
       "    </tr>\n",
       "    <tr>\n",
       "      <th>778</th>\n",
       "      <td>855</td>\n",
       "      <td>Rua Maria Amália Lopes de Azevedo, 4.180. Jd. ...</td>\n",
       "    </tr>\n",
       "    <tr>\n",
       "      <th>779</th>\n",
       "      <td>856</td>\n",
       "      <td>Projeto fazendo a diferença.. Centro de São Pa...</td>\n",
       "    </tr>\n",
       "    <tr>\n",
       "      <th>780</th>\n",
       "      <td>857</td>\n",
       "      <td>RUA ITAPIRU 137</td>\n",
       "    </tr>\n",
       "    <tr>\n",
       "      <th>781</th>\n",
       "      <td>858</td>\n",
       "      <td>Rua do outono 410</td>\n",
       "    </tr>\n",
       "    <tr>\n",
       "      <th>782</th>\n",
       "      <td>859</td>\n",
       "      <td>Rua 26 de abril 117 Na sede ou no espaço socia...</td>\n",
       "    </tr>\n",
       "  </tbody>\n",
       "</table>\n",
       "<p>783 rows × 2 columns</p>\n",
       "</div>"
      ],
      "text/plain": [
       "      id                                           endereço\n",
       "0      1                                              TESTE\n",
       "1      2                                 rua da entidade,25\n",
       "2      3                            Av. Augusto Antunes 337\n",
       "3      5        Ermelino Matarazzo e comunidade vila Silvia\n",
       "4      6         Rua Serra de LUIZ Gomes 1992 cep 08190 500\n",
       "..   ...                                                ...\n",
       "778  855  Rua Maria Amália Lopes de Azevedo, 4.180. Jd. ...\n",
       "779  856  Projeto fazendo a diferença.. Centro de São Pa...\n",
       "780  857                                    RUA ITAPIRU 137\n",
       "781  858                                  Rua do outono 410\n",
       "782  859  Rua 26 de abril 117 Na sede ou no espaço socia...\n",
       "\n",
       "[783 rows x 2 columns]"
      ]
     },
     "execution_count": 10,
     "metadata": {},
     "output_type": "execute_result"
    }
   ],
   "source": [
    "df"
   ]
  },
  {
   "cell_type": "code",
   "execution_count": 11,
   "metadata": {},
   "outputs": [],
   "source": [
    "from geopy.extra.rate_limiter import RateLimiter\n",
    "geocode = RateLimiter(geolocator.geocode, min_delay_seconds=1)"
   ]
  },
  {
   "cell_type": "code",
   "execution_count": 12,
   "metadata": {},
   "outputs": [
    {
     "name": "stderr",
     "output_type": "stream",
     "text": [
      "/home/fernando/miniconda3/envs/geo_env/lib/python3.8/site-packages/tqdm/std.py:668: FutureWarning: The Panel class is removed from pandas. Accessing it from the top-level namespace will also be removed in the next version\n",
      "  from pandas import Panel\n"
     ]
    }
   ],
   "source": [
    "from tqdm import tqdm\n",
    "tqdm.pandas()"
   ]
  },
  {
   "cell_type": "code",
   "execution_count": 13,
   "metadata": {},
   "outputs": [
    {
     "name": "stderr",
     "output_type": "stream",
     "text": [
      "100%|██████████| 783/783 [24:54<00:00,  1.91s/it]\n"
     ]
    }
   ],
   "source": [
    "df['location'] = df['endereço'].progress_apply(geocode)"
   ]
  },
  {
   "cell_type": "code",
   "execution_count": 14,
   "metadata": {},
   "outputs": [
    {
     "data": {
      "text/html": [
       "<div>\n",
       "<style scoped>\n",
       "    .dataframe tbody tr th:only-of-type {\n",
       "        vertical-align: middle;\n",
       "    }\n",
       "\n",
       "    .dataframe tbody tr th {\n",
       "        vertical-align: top;\n",
       "    }\n",
       "\n",
       "    .dataframe thead th {\n",
       "        text-align: right;\n",
       "    }\n",
       "</style>\n",
       "<table border=\"1\" class=\"dataframe\">\n",
       "  <thead>\n",
       "    <tr style=\"text-align: right;\">\n",
       "      <th></th>\n",
       "      <th>id</th>\n",
       "      <th>endereço</th>\n",
       "      <th>location</th>\n",
       "    </tr>\n",
       "  </thead>\n",
       "  <tbody>\n",
       "    <tr>\n",
       "      <th>0</th>\n",
       "      <td>1</td>\n",
       "      <td>TESTE</td>\n",
       "      <td>(Teste, Otacílio Costa, Região Geográfica Imed...</td>\n",
       "    </tr>\n",
       "    <tr>\n",
       "      <th>1</th>\n",
       "      <td>2</td>\n",
       "      <td>rua da entidade,25</td>\n",
       "      <td>None</td>\n",
       "    </tr>\n",
       "    <tr>\n",
       "      <th>2</th>\n",
       "      <td>3</td>\n",
       "      <td>Av. Augusto Antunes 337</td>\n",
       "      <td>(Avenida Augusto Antunes, Jardim São Carlos, L...</td>\n",
       "    </tr>\n",
       "    <tr>\n",
       "      <th>3</th>\n",
       "      <td>5</td>\n",
       "      <td>Ermelino Matarazzo e comunidade vila Silvia</td>\n",
       "      <td>None</td>\n",
       "    </tr>\n",
       "    <tr>\n",
       "      <th>4</th>\n",
       "      <td>6</td>\n",
       "      <td>Rua Serra de LUIZ Gomes 1992 cep 08190 500</td>\n",
       "      <td>None</td>\n",
       "    </tr>\n",
       "    <tr>\n",
       "      <th>...</th>\n",
       "      <td>...</td>\n",
       "      <td>...</td>\n",
       "      <td>...</td>\n",
       "    </tr>\n",
       "    <tr>\n",
       "      <th>778</th>\n",
       "      <td>855</td>\n",
       "      <td>Rua Maria Amália Lopes de Azevedo, 4.180. Jd. ...</td>\n",
       "      <td>None</td>\n",
       "    </tr>\n",
       "    <tr>\n",
       "      <th>779</th>\n",
       "      <td>856</td>\n",
       "      <td>Projeto fazendo a diferença.. Centro de São Pa...</td>\n",
       "      <td>None</td>\n",
       "    </tr>\n",
       "    <tr>\n",
       "      <th>780</th>\n",
       "      <td>857</td>\n",
       "      <td>RUA ITAPIRU 137</td>\n",
       "      <td>(137, Rua Itapiru, Vila da Saúde, Saúde, São P...</td>\n",
       "    </tr>\n",
       "    <tr>\n",
       "      <th>781</th>\n",
       "      <td>858</td>\n",
       "      <td>Rua do outono 410</td>\n",
       "      <td>(Rua do Outono, Brasilândia, São Paulo, Região...</td>\n",
       "    </tr>\n",
       "    <tr>\n",
       "      <th>782</th>\n",
       "      <td>859</td>\n",
       "      <td>Rua 26 de abril 117 Na sede ou no espaço socia...</td>\n",
       "      <td>None</td>\n",
       "    </tr>\n",
       "  </tbody>\n",
       "</table>\n",
       "<p>783 rows × 3 columns</p>\n",
       "</div>"
      ],
      "text/plain": [
       "      id                                           endereço  \\\n",
       "0      1                                              TESTE   \n",
       "1      2                                 rua da entidade,25   \n",
       "2      3                            Av. Augusto Antunes 337   \n",
       "3      5        Ermelino Matarazzo e comunidade vila Silvia   \n",
       "4      6         Rua Serra de LUIZ Gomes 1992 cep 08190 500   \n",
       "..   ...                                                ...   \n",
       "778  855  Rua Maria Amália Lopes de Azevedo, 4.180. Jd. ...   \n",
       "779  856  Projeto fazendo a diferença.. Centro de São Pa...   \n",
       "780  857                                    RUA ITAPIRU 137   \n",
       "781  858                                  Rua do outono 410   \n",
       "782  859  Rua 26 de abril 117 Na sede ou no espaço socia...   \n",
       "\n",
       "                                              location  \n",
       "0    (Teste, Otacílio Costa, Região Geográfica Imed...  \n",
       "1                                                 None  \n",
       "2    (Avenida Augusto Antunes, Jardim São Carlos, L...  \n",
       "3                                                 None  \n",
       "4                                                 None  \n",
       "..                                                 ...  \n",
       "778                                               None  \n",
       "779                                               None  \n",
       "780  (137, Rua Itapiru, Vila da Saúde, Saúde, São P...  \n",
       "781  (Rua do Outono, Brasilândia, São Paulo, Região...  \n",
       "782                                               None  \n",
       "\n",
       "[783 rows x 3 columns]"
      ]
     },
     "execution_count": 14,
     "metadata": {},
     "output_type": "execute_result"
    }
   ],
   "source": [
    "df"
   ]
  },
  {
   "cell_type": "code",
   "execution_count": 15,
   "metadata": {},
   "outputs": [],
   "source": [
    "df['point'] = df['location'].apply(lambda loc: tuple(loc.point) if loc else None)"
   ]
  },
  {
   "cell_type": "code",
   "execution_count": 16,
   "metadata": {},
   "outputs": [
    {
     "data": {
      "text/html": [
       "<div>\n",
       "<style scoped>\n",
       "    .dataframe tbody tr th:only-of-type {\n",
       "        vertical-align: middle;\n",
       "    }\n",
       "\n",
       "    .dataframe tbody tr th {\n",
       "        vertical-align: top;\n",
       "    }\n",
       "\n",
       "    .dataframe thead th {\n",
       "        text-align: right;\n",
       "    }\n",
       "</style>\n",
       "<table border=\"1\" class=\"dataframe\">\n",
       "  <thead>\n",
       "    <tr style=\"text-align: right;\">\n",
       "      <th></th>\n",
       "      <th>id</th>\n",
       "      <th>endereço</th>\n",
       "      <th>location</th>\n",
       "      <th>point</th>\n",
       "    </tr>\n",
       "  </thead>\n",
       "  <tbody>\n",
       "    <tr>\n",
       "      <th>0</th>\n",
       "      <td>1</td>\n",
       "      <td>TESTE</td>\n",
       "      <td>(Teste, Otacílio Costa, Região Geográfica Imed...</td>\n",
       "      <td>(-27.5106495, -50.1162173, 0.0)</td>\n",
       "    </tr>\n",
       "    <tr>\n",
       "      <th>2</th>\n",
       "      <td>3</td>\n",
       "      <td>Av. Augusto Antunes 337</td>\n",
       "      <td>(Avenida Augusto Antunes, Jardim São Carlos, L...</td>\n",
       "      <td>(-23.5122828, -46.4686618, 0.0)</td>\n",
       "    </tr>\n",
       "    <tr>\n",
       "      <th>6</th>\n",
       "      <td>8</td>\n",
       "      <td>Av engenheiro pinto  318</td>\n",
       "      <td>(Praça Xavier Pinto Lima, Engenheiro Goulart, ...</td>\n",
       "      <td>(-23.4998295, -46.5243336, 0.0)</td>\n",
       "    </tr>\n",
       "    <tr>\n",
       "      <th>7</th>\n",
       "      <td>9</td>\n",
       "      <td>Rua Lucas Nogueira Garcez 21</td>\n",
       "      <td>(Rua Lucas Nogueira Garcez, Jardim Baronesa, V...</td>\n",
       "      <td>(-23.4952509, -47.4906554, 0.0)</td>\n",
       "    </tr>\n",
       "    <tr>\n",
       "      <th>9</th>\n",
       "      <td>11</td>\n",
       "      <td>Rua Júlio cenalvo 16a</td>\n",
       "      <td>(Rua Júlio Cenalvo, Aricanduva, São Paulo, Reg...</td>\n",
       "      <td>(-23.5828046, -46.5147215, 0.0)</td>\n",
       "    </tr>\n",
       "    <tr>\n",
       "      <th>...</th>\n",
       "      <td>...</td>\n",
       "      <td>...</td>\n",
       "      <td>...</td>\n",
       "      <td>...</td>\n",
       "    </tr>\n",
       "    <tr>\n",
       "      <th>773</th>\n",
       "      <td>850</td>\n",
       "      <td>Av. Miguel conejo 20 freguesia do Ô São Paulo</td>\n",
       "      <td>(Avenida Miguel Conejo, Parque Monteiro Soares...</td>\n",
       "      <td>(-23.4968875, -46.69289, 0.0)</td>\n",
       "    </tr>\n",
       "    <tr>\n",
       "      <th>774</th>\n",
       "      <td>851</td>\n",
       "      <td>Rua Alcidio Gomes N 103</td>\n",
       "      <td>(Rua Alcídio Gomes, Lagoa Grande, Parelheiros,...</td>\n",
       "      <td>(-23.866867, -46.7560378, 0.0)</td>\n",
       "    </tr>\n",
       "    <tr>\n",
       "      <th>777</th>\n",
       "      <td>854</td>\n",
       "      <td>Rua alexandre groppali 215</td>\n",
       "      <td>(Rua Alexandre Groppali, Fazenda da Juta, Jard...</td>\n",
       "      <td>(-23.613712, -46.488996, 0.0)</td>\n",
       "    </tr>\n",
       "    <tr>\n",
       "      <th>780</th>\n",
       "      <td>857</td>\n",
       "      <td>RUA ITAPIRU 137</td>\n",
       "      <td>(137, Rua Itapiru, Vila da Saúde, Saúde, São P...</td>\n",
       "      <td>(-23.6135668, -46.6365465, 0.0)</td>\n",
       "    </tr>\n",
       "    <tr>\n",
       "      <th>781</th>\n",
       "      <td>858</td>\n",
       "      <td>Rua do outono 410</td>\n",
       "      <td>(Rua do Outono, Brasilândia, São Paulo, Região...</td>\n",
       "      <td>(-23.4608804, -46.6941593, 0.0)</td>\n",
       "    </tr>\n",
       "  </tbody>\n",
       "</table>\n",
       "<p>301 rows × 4 columns</p>\n",
       "</div>"
      ],
      "text/plain": [
       "      id                                       endereço  \\\n",
       "0      1                                          TESTE   \n",
       "2      3                        Av. Augusto Antunes 337   \n",
       "6      8                       Av engenheiro pinto  318   \n",
       "7      9                   Rua Lucas Nogueira Garcez 21   \n",
       "9     11                          Rua Júlio cenalvo 16a   \n",
       "..   ...                                            ...   \n",
       "773  850  Av. Miguel conejo 20 freguesia do Ô São Paulo   \n",
       "774  851                        Rua Alcidio Gomes N 103   \n",
       "777  854                     Rua alexandre groppali 215   \n",
       "780  857                                RUA ITAPIRU 137   \n",
       "781  858                              Rua do outono 410   \n",
       "\n",
       "                                              location  \\\n",
       "0    (Teste, Otacílio Costa, Região Geográfica Imed...   \n",
       "2    (Avenida Augusto Antunes, Jardim São Carlos, L...   \n",
       "6    (Praça Xavier Pinto Lima, Engenheiro Goulart, ...   \n",
       "7    (Rua Lucas Nogueira Garcez, Jardim Baronesa, V...   \n",
       "9    (Rua Júlio Cenalvo, Aricanduva, São Paulo, Reg...   \n",
       "..                                                 ...   \n",
       "773  (Avenida Miguel Conejo, Parque Monteiro Soares...   \n",
       "774  (Rua Alcídio Gomes, Lagoa Grande, Parelheiros,...   \n",
       "777  (Rua Alexandre Groppali, Fazenda da Juta, Jard...   \n",
       "780  (137, Rua Itapiru, Vila da Saúde, Saúde, São P...   \n",
       "781  (Rua do Outono, Brasilândia, São Paulo, Região...   \n",
       "\n",
       "                               point  \n",
       "0    (-27.5106495, -50.1162173, 0.0)  \n",
       "2    (-23.5122828, -46.4686618, 0.0)  \n",
       "6    (-23.4998295, -46.5243336, 0.0)  \n",
       "7    (-23.4952509, -47.4906554, 0.0)  \n",
       "9    (-23.5828046, -46.5147215, 0.0)  \n",
       "..                               ...  \n",
       "773    (-23.4968875, -46.69289, 0.0)  \n",
       "774   (-23.866867, -46.7560378, 0.0)  \n",
       "777    (-23.613712, -46.488996, 0.0)  \n",
       "780  (-23.6135668, -46.6365465, 0.0)  \n",
       "781  (-23.4608804, -46.6941593, 0.0)  \n",
       "\n",
       "[301 rows x 4 columns]"
      ]
     },
     "execution_count": 16,
     "metadata": {},
     "output_type": "execute_result"
    }
   ],
   "source": [
    "df[~df.point.isin([None])]"
   ]
  },
  {
   "cell_type": "code",
   "execution_count": 19,
   "metadata": {},
   "outputs": [],
   "source": [
    "df.to_csv(\"resultados/exemplo-1-nominatim.csv\")"
   ]
  },
  {
   "cell_type": "code",
   "execution_count": 21,
   "metadata": {},
   "outputs": [],
   "source": [
    "import geopandas as gpd"
   ]
  },
  {
   "cell_type": "code",
   "execution_count": 22,
   "metadata": {},
   "outputs": [],
   "source": [
    "df_points = df[~df.point.isin([None])]"
   ]
  },
  {
   "cell_type": "code",
   "execution_count": 37,
   "metadata": {},
   "outputs": [
    {
     "name": "stderr",
     "output_type": "stream",
     "text": [
      "<ipython-input-37-a89875fe4032>:1: SettingWithCopyWarning: \n",
      "A value is trying to be set on a copy of a slice from a DataFrame.\n",
      "Try using .loc[row_indexer,col_indexer] = value instead\n",
      "\n",
      "See the caveats in the documentation: https://pandas.pydata.org/pandas-docs/stable/user_guide/indexing.html#returning-a-view-versus-a-copy\n",
      "  df_points['x'] = df_points.apply(lambda row: row.point[1], axis=1)\n",
      "<ipython-input-37-a89875fe4032>:2: SettingWithCopyWarning: \n",
      "A value is trying to be set on a copy of a slice from a DataFrame.\n",
      "Try using .loc[row_indexer,col_indexer] = value instead\n",
      "\n",
      "See the caveats in the documentation: https://pandas.pydata.org/pandas-docs/stable/user_guide/indexing.html#returning-a-view-versus-a-copy\n",
      "  df_points['y'] = df_points.apply(lambda row: row.point[0], axis=1)\n"
     ]
    }
   ],
   "source": [
    "df_points['x'] = df_points.apply(lambda row: row.point[1], axis=1)\n",
    "df_points['y'] = df_points.apply(lambda row: row.point[0], axis=1)"
   ]
  },
  {
   "cell_type": "code",
   "execution_count": 38,
   "metadata": {},
   "outputs": [],
   "source": [
    "gdf = gpd.GeoDataFrame(df_points, geometry=gpd.points_from_xy(df_points.x, df_points.y))\n",
    "# df_points.point[0][0]"
   ]
  },
  {
   "cell_type": "code",
   "execution_count": 39,
   "metadata": {},
   "outputs": [
    {
     "data": {
      "text/html": [
       "<div>\n",
       "<style scoped>\n",
       "    .dataframe tbody tr th:only-of-type {\n",
       "        vertical-align: middle;\n",
       "    }\n",
       "\n",
       "    .dataframe tbody tr th {\n",
       "        vertical-align: top;\n",
       "    }\n",
       "\n",
       "    .dataframe thead th {\n",
       "        text-align: right;\n",
       "    }\n",
       "</style>\n",
       "<table border=\"1\" class=\"dataframe\">\n",
       "  <thead>\n",
       "    <tr style=\"text-align: right;\">\n",
       "      <th></th>\n",
       "      <th>id</th>\n",
       "      <th>endereço</th>\n",
       "      <th>location</th>\n",
       "      <th>point</th>\n",
       "      <th>x</th>\n",
       "      <th>y</th>\n",
       "      <th>geometry</th>\n",
       "    </tr>\n",
       "  </thead>\n",
       "  <tbody>\n",
       "    <tr>\n",
       "      <th>0</th>\n",
       "      <td>1</td>\n",
       "      <td>TESTE</td>\n",
       "      <td>(Teste, Otacílio Costa, Região Geográfica Imed...</td>\n",
       "      <td>(-27.5106495, -50.1162173, 0.0)</td>\n",
       "      <td>-50.116217</td>\n",
       "      <td>-27.510649</td>\n",
       "      <td>POINT (-50.11622 -27.51065)</td>\n",
       "    </tr>\n",
       "    <tr>\n",
       "      <th>2</th>\n",
       "      <td>3</td>\n",
       "      <td>Av. Augusto Antunes 337</td>\n",
       "      <td>(Avenida Augusto Antunes, Jardim São Carlos, L...</td>\n",
       "      <td>(-23.5122828, -46.4686618, 0.0)</td>\n",
       "      <td>-46.468662</td>\n",
       "      <td>-23.512283</td>\n",
       "      <td>POINT (-46.46866 -23.51228)</td>\n",
       "    </tr>\n",
       "    <tr>\n",
       "      <th>6</th>\n",
       "      <td>8</td>\n",
       "      <td>Av engenheiro pinto  318</td>\n",
       "      <td>(Praça Xavier Pinto Lima, Engenheiro Goulart, ...</td>\n",
       "      <td>(-23.4998295, -46.5243336, 0.0)</td>\n",
       "      <td>-46.524334</td>\n",
       "      <td>-23.499830</td>\n",
       "      <td>POINT (-46.52433 -23.49983)</td>\n",
       "    </tr>\n",
       "    <tr>\n",
       "      <th>7</th>\n",
       "      <td>9</td>\n",
       "      <td>Rua Lucas Nogueira Garcez 21</td>\n",
       "      <td>(Rua Lucas Nogueira Garcez, Jardim Baronesa, V...</td>\n",
       "      <td>(-23.4952509, -47.4906554, 0.0)</td>\n",
       "      <td>-47.490655</td>\n",
       "      <td>-23.495251</td>\n",
       "      <td>POINT (-47.49066 -23.49525)</td>\n",
       "    </tr>\n",
       "    <tr>\n",
       "      <th>9</th>\n",
       "      <td>11</td>\n",
       "      <td>Rua Júlio cenalvo 16a</td>\n",
       "      <td>(Rua Júlio Cenalvo, Aricanduva, São Paulo, Reg...</td>\n",
       "      <td>(-23.5828046, -46.5147215, 0.0)</td>\n",
       "      <td>-46.514722</td>\n",
       "      <td>-23.582805</td>\n",
       "      <td>POINT (-46.51472 -23.58280)</td>\n",
       "    </tr>\n",
       "    <tr>\n",
       "      <th>...</th>\n",
       "      <td>...</td>\n",
       "      <td>...</td>\n",
       "      <td>...</td>\n",
       "      <td>...</td>\n",
       "      <td>...</td>\n",
       "      <td>...</td>\n",
       "      <td>...</td>\n",
       "    </tr>\n",
       "    <tr>\n",
       "      <th>773</th>\n",
       "      <td>850</td>\n",
       "      <td>Av. Miguel conejo 20 freguesia do Ô São Paulo</td>\n",
       "      <td>(Avenida Miguel Conejo, Parque Monteiro Soares...</td>\n",
       "      <td>(-23.4968875, -46.69289, 0.0)</td>\n",
       "      <td>-46.692890</td>\n",
       "      <td>-23.496887</td>\n",
       "      <td>POINT (-46.69289 -23.49689)</td>\n",
       "    </tr>\n",
       "    <tr>\n",
       "      <th>774</th>\n",
       "      <td>851</td>\n",
       "      <td>Rua Alcidio Gomes N 103</td>\n",
       "      <td>(Rua Alcídio Gomes, Lagoa Grande, Parelheiros,...</td>\n",
       "      <td>(-23.866867, -46.7560378, 0.0)</td>\n",
       "      <td>-46.756038</td>\n",
       "      <td>-23.866867</td>\n",
       "      <td>POINT (-46.75604 -23.86687)</td>\n",
       "    </tr>\n",
       "    <tr>\n",
       "      <th>777</th>\n",
       "      <td>854</td>\n",
       "      <td>Rua alexandre groppali 215</td>\n",
       "      <td>(Rua Alexandre Groppali, Fazenda da Juta, Jard...</td>\n",
       "      <td>(-23.613712, -46.488996, 0.0)</td>\n",
       "      <td>-46.488996</td>\n",
       "      <td>-23.613712</td>\n",
       "      <td>POINT (-46.48900 -23.61371)</td>\n",
       "    </tr>\n",
       "    <tr>\n",
       "      <th>780</th>\n",
       "      <td>857</td>\n",
       "      <td>RUA ITAPIRU 137</td>\n",
       "      <td>(137, Rua Itapiru, Vila da Saúde, Saúde, São P...</td>\n",
       "      <td>(-23.6135668, -46.6365465, 0.0)</td>\n",
       "      <td>-46.636547</td>\n",
       "      <td>-23.613567</td>\n",
       "      <td>POINT (-46.63655 -23.61357)</td>\n",
       "    </tr>\n",
       "    <tr>\n",
       "      <th>781</th>\n",
       "      <td>858</td>\n",
       "      <td>Rua do outono 410</td>\n",
       "      <td>(Rua do Outono, Brasilândia, São Paulo, Região...</td>\n",
       "      <td>(-23.4608804, -46.6941593, 0.0)</td>\n",
       "      <td>-46.694159</td>\n",
       "      <td>-23.460880</td>\n",
       "      <td>POINT (-46.69416 -23.46088)</td>\n",
       "    </tr>\n",
       "  </tbody>\n",
       "</table>\n",
       "<p>301 rows × 7 columns</p>\n",
       "</div>"
      ],
      "text/plain": [
       "      id                                       endereço  \\\n",
       "0      1                                          TESTE   \n",
       "2      3                        Av. Augusto Antunes 337   \n",
       "6      8                       Av engenheiro pinto  318   \n",
       "7      9                   Rua Lucas Nogueira Garcez 21   \n",
       "9     11                          Rua Júlio cenalvo 16a   \n",
       "..   ...                                            ...   \n",
       "773  850  Av. Miguel conejo 20 freguesia do Ô São Paulo   \n",
       "774  851                        Rua Alcidio Gomes N 103   \n",
       "777  854                     Rua alexandre groppali 215   \n",
       "780  857                                RUA ITAPIRU 137   \n",
       "781  858                              Rua do outono 410   \n",
       "\n",
       "                                              location  \\\n",
       "0    (Teste, Otacílio Costa, Região Geográfica Imed...   \n",
       "2    (Avenida Augusto Antunes, Jardim São Carlos, L...   \n",
       "6    (Praça Xavier Pinto Lima, Engenheiro Goulart, ...   \n",
       "7    (Rua Lucas Nogueira Garcez, Jardim Baronesa, V...   \n",
       "9    (Rua Júlio Cenalvo, Aricanduva, São Paulo, Reg...   \n",
       "..                                                 ...   \n",
       "773  (Avenida Miguel Conejo, Parque Monteiro Soares...   \n",
       "774  (Rua Alcídio Gomes, Lagoa Grande, Parelheiros,...   \n",
       "777  (Rua Alexandre Groppali, Fazenda da Juta, Jard...   \n",
       "780  (137, Rua Itapiru, Vila da Saúde, Saúde, São P...   \n",
       "781  (Rua do Outono, Brasilândia, São Paulo, Região...   \n",
       "\n",
       "                               point          x          y  \\\n",
       "0    (-27.5106495, -50.1162173, 0.0) -50.116217 -27.510649   \n",
       "2    (-23.5122828, -46.4686618, 0.0) -46.468662 -23.512283   \n",
       "6    (-23.4998295, -46.5243336, 0.0) -46.524334 -23.499830   \n",
       "7    (-23.4952509, -47.4906554, 0.0) -47.490655 -23.495251   \n",
       "9    (-23.5828046, -46.5147215, 0.0) -46.514722 -23.582805   \n",
       "..                               ...        ...        ...   \n",
       "773    (-23.4968875, -46.69289, 0.0) -46.692890 -23.496887   \n",
       "774   (-23.866867, -46.7560378, 0.0) -46.756038 -23.866867   \n",
       "777    (-23.613712, -46.488996, 0.0) -46.488996 -23.613712   \n",
       "780  (-23.6135668, -46.6365465, 0.0) -46.636547 -23.613567   \n",
       "781  (-23.4608804, -46.6941593, 0.0) -46.694159 -23.460880   \n",
       "\n",
       "                        geometry  \n",
       "0    POINT (-50.11622 -27.51065)  \n",
       "2    POINT (-46.46866 -23.51228)  \n",
       "6    POINT (-46.52433 -23.49983)  \n",
       "7    POINT (-47.49066 -23.49525)  \n",
       "9    POINT (-46.51472 -23.58280)  \n",
       "..                           ...  \n",
       "773  POINT (-46.69289 -23.49689)  \n",
       "774  POINT (-46.75604 -23.86687)  \n",
       "777  POINT (-46.48900 -23.61371)  \n",
       "780  POINT (-46.63655 -23.61357)  \n",
       "781  POINT (-46.69416 -23.46088)  \n",
       "\n",
       "[301 rows x 7 columns]"
      ]
     },
     "execution_count": 39,
     "metadata": {},
     "output_type": "execute_result"
    }
   ],
   "source": [
    "gdf"
   ]
  },
  {
   "cell_type": "code",
   "execution_count": 49,
   "metadata": {},
   "outputs": [],
   "source": [
    "# gdf.to_file('resultados/exemplo-1-nominatim.gpkg')\n",
    "gdf[['id', 'endereço', 'geometry']].to_file('resultados/exemplo-1-nominatim.gpkg', driver=\"GPKG\")"
   ]
  },
  {
   "cell_type": "code",
   "execution_count": null,
   "metadata": {},
   "outputs": [],
   "source": []
  }
 ],
 "metadata": {
  "kernelspec": {
   "display_name": "Python 3",
   "language": "python",
   "name": "python3"
  },
  "language_info": {
   "codemirror_mode": {
    "name": "ipython",
    "version": 3
   },
   "file_extension": ".py",
   "mimetype": "text/x-python",
   "name": "python",
   "nbconvert_exporter": "python",
   "pygments_lexer": "ipython3",
   "version": "3.8.2"
  }
 },
 "nbformat": 4,
 "nbformat_minor": 4
}
